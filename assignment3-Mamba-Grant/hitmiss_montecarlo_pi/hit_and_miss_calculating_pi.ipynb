{
 "cells": [
  {
   "cell_type": "code",
   "execution_count": null,
   "id": "4d5773ff-7272-43bb-b1a1-2d13ffefad3c",
   "metadata": {},
   "outputs": [
    {
     "name": "stdout",
     "output_type": "stream",
     "text": [
      "%: 0.5251 \n",
      "Calculated pi: 3.1506 \n",
      "Error: 0.029966567238256372\n"
     ]
    }
   ],
   "source": [
    "import seaborn as sb\n",
    "import matplotlib as plt\n",
    "import numpy as np\n",
    "import matplotlib.pyplot as plt\n",
    "import pandas as pd\n",
    "from itertools import product, combinations\n",
    "\n",
    "def plot():\n",
    "    sb.set(style='whitegrid', rc={\"figure.figsize\":(4, 4)})    \n",
    "    sb.set_palette(['#EF476F', '#62C370'])\n",
    "\n",
    "    fig = plt.figure()\n",
    "    x1 = fig.add_subplot(projection='3d')\n",
    "    # x1.set_aspect(\"equal\")\n",
    "    \n",
    "    # x1.view_init(45, 55)\n",
    "\n",
    "    # Draw Scatter\n",
    "    for s in df.in_bounds.unique():\n",
    "        x1.scatter(df.x[df.in_bounds==s],df.y[df.in_bounds==s],df.z[df.in_bounds==s],label=s)\n",
    "    \n",
    "    # draw sphere\n",
    "    u, v = np.mgrid[0:2*np.pi:20j, 0:np.pi:10j]\n",
    "    x = np.cos(u)*np.sin(v)\n",
    "    y = np.sin(u)*np.sin(v)\n",
    "    z = np.cos(v)\n",
    "    x1.plot_wireframe(x, y, z, color=\"b\")\n",
    "    \n",
    "\n",
    "iterations = 100\n",
    "np.random.seed(2)\n",
    "\n",
    "df = pd.DataFrame(columns =[\"x\",\"y\",\"z\",\"in_bounds\",\"radius\",\"one_minus_radius\"])\n",
    "# Pandas screams at us for not casting the column to a bool type for some reason? This fixes that even though it causes no issues... I miss type safety in rust :(\n",
    "df[\"in_bounds\"]=df[\"in_bounds\"].astype(bool)\n",
    "\n",
    "index=0\n",
    "for e in range(0, iterations):\n",
    "    x=np.random.uniform(-1,1)\n",
    "    y=np.random.uniform(-1,1)\n",
    "    z=np.random.uniform(-1,1)\n",
    "    \n",
    "    r = np.sqrt(x**2 + y**2 + z**2)\n",
    "    \n",
    "    row_to_append = pd.DataFrame([{\"x\":x, \"y\":y, \"z\":z, \"in_bounds\": False if r > 1 else True, \"one_minus_radius\": 1-r, \"radius\": r}])\n",
    "    df = pd.concat([df,row_to_append])\n",
    "    \n",
    "    index+=1\n",
    "\n",
    "\n",
    "percent = df[\"in_bounds\"].value_counts()[True]/iterations\n",
    "calculated_pi = percent*6\n",
    "\n",
    "err = 6 * np.sqrt( (np.pi/6) * (1.0 - (np.pi/6) )) / np.sqrt(iterations)\n",
    "print(\"%:\", percent, \"\\nCalculated pi:\", calculated_pi, \"\\nError:\", err)\n",
    "\n",
    "# display(df)\n",
    "plot()"
   ]
  },
  {
   "cell_type": "code",
   "execution_count": null,
   "id": "32ab70d3-9336-4b3d-8e70-66fe2d2221cc",
   "metadata": {},
   "outputs": [],
   "source": []
  }
 ],
 "metadata": {
  "kernelspec": {
   "display_name": "Python 3 (ipykernel)",
   "language": "python",
   "name": "python3"
  },
  "language_info": {
   "codemirror_mode": {
    "name": "ipython",
    "version": 3
   },
   "file_extension": ".py",
   "mimetype": "text/x-python",
   "name": "python",
   "nbconvert_exporter": "python",
   "pygments_lexer": "ipython3",
   "version": "3.10.9"
  }
 },
 "nbformat": 4,
 "nbformat_minor": 5
}
